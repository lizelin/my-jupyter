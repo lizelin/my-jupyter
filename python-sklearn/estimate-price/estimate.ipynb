{
 "metadata": {
  "language_info": {
   "codemirror_mode": {
    "name": "ipython",
    "version": 3
   },
   "file_extension": ".py",
   "mimetype": "text/x-python",
   "name": "python",
   "nbconvert_exporter": "python",
   "pygments_lexer": "ipython3",
   "version": "3.7.6-final"
  },
  "orig_nbformat": 2,
  "kernelspec": {
   "name": "python_defaultSpec_1600826275134",
   "display_name": "Python 3.7.6 64-bit ('base': conda)"
  }
 },
 "nbformat": 4,
 "nbformat_minor": 2,
 "cells": [
  {
   "cell_type": "markdown",
   "metadata": {},
   "source": [
    "# 订单、定损单、商品库数据\n",
    "人保订单，德系、日系、美系、韩系车100+品牌，8000 OE，主要是保险杠和大灯，202001--202006数据"
   ]
  },
  {
   "cell_type": "code",
   "execution_count": null,
   "metadata": {},
   "outputs": [],
   "source": [
    "# 初始化\n",
    "%matplotlib inline\n",
    "import pandas as pd\n",
    "import matplotlib as mpl\n",
    "import matplotlib.pyplot as plt\n",
    "import numpy as np\n",
    "mpl.rc('axes', labelsize=14)\n",
    "mpl.rc('xtick', labelsize=12)\n",
    "mpl.rc('ytick', labelsize=12)"
   ]
  },
  {
   "source": [
    "# 加载数据"
   ],
   "cell_type": "markdown",
   "metadata": {}
  },
  {
   "cell_type": "code",
   "execution_count": null,
   "metadata": {
    "tags": []
   },
   "outputs": [],
   "source": [
    "# 加载数据\n",
    "# \"part_type_code\",\"配件品质代码：01 原厂件;02 品牌件; 03 配套件; 04 流通原厂件;05 配套品牌件;06 售后品牌件;07 经济适用件;08 再制造件;09 拆车回用件\"\n",
    "\n",
    "# 订单列：[主键，车厂，配件名称，去符号OE，品质代码，配件价格，数据来源，来源唯一标志, 原始车型名称, 省份]\n",
    "orders_column = ['id','manufacturer', 'part_name', 'regularize_oe', 'part_type_code', 'part_price', 'data_source', 'data_source_idx', 'data_vehicletype_name', 'province_name']\n",
    "# 定损单列：[主键，车厂，配件名称，去符号OE，品质代码，定损价参考类型, 理赔参考价, 定损价格, 核损价格, 本地化价格, 光盘价, 4s店价格，数据来源，来源唯一标志, 原始车型名称, 省份, 定损单创建时间]\n",
    "damage_column = ['id','manufacturer', 'part_name', 'regularize_oe', 'part_type_code', 'reference_type_name', 'reference_price', 'damage_price', 'verify_price', 'local_price', 'guide_price', 'ms_retail_price', 'data_source', 'data_source_idx', 'data_vehicletype_name', 'province_name']\n",
    "# 询价单列：[主键，车厂，配件名称，去符号OE，品质代码，配件价格，数据来源，来源唯一标志, 原始车型名称, 省份, 是否选中]\n",
    "enquiry_column = ['id','manufacturer', 'part_name', 'regularize_oe', 'part_type_code', 'part_price', 'data_source', 'data_source_idx', 'data_vehicletype_name', 'province_name', 'enquiry_comfig_status']\n",
    "\n",
    "orders_csv = \"data/order-2020Q1Q2.csv\"\n",
    "damage_csv = \"data/damage-2020Q1Q2.csv\"\n",
    "enquiry_csv = \"data/enquiry-2020Q1Q2.csv\"\n",
    "\n",
    "def load_data(csv_path, columns):\n",
    "    df = pd.read_csv(csv_path)\n",
    "    df = df[columns]\n",
    "    return df[df['part_type_code']==1]\n",
    "\n",
    "df_orders = load_data(orders_csv, orders_column)\n",
    "df_damage = load_data(damage_csv, damage_column)\n",
    "df_enquiry = load_data(enquiry_csv, enquiry_column)\n",
    "#print(df_orders.describe())\n",
    "#print(df_orders['regularize_oe'].value_counts())\n",
    "#print(df_damage.describe())\n",
    "#print(df_damage['regularize_oe'].value_counts())\n",
    "#print(df_enquiry.describe())\n",
    "#print(df_enquiry['regularize_oe'].value_counts())\n",
    "\n",
    "tmp_kv = df_orders['regularize_oe'].value_counts()\n",
    "# print(a) # pandas.core.series.Series\n",
    "for k in range(20):\n",
    "   print(tmp_kv.index[k],tmp_kv[k]) "
   ]
  },
  {
   "source": [
    "# 几个函数"
   ],
   "cell_type": "markdown",
   "metadata": {}
  },
  {
   "cell_type": "code",
   "execution_count": null,
   "metadata": {},
   "outputs": [],
   "source": [
    "# 几个函数\n",
    "import math\n",
    "\n",
    "# 1. 空判断\n",
    "# isEmpty(Object): 返回True/False\n",
    "def isEmpty(o):\n",
    "    if o:\n",
    "        return True\n",
    "    else:\n",
    "        return False\n",
    "\n",
    "# 2. anyNan(numList) 判断是否为NaN\n",
    "def anyNan(numList):\n",
    "    for num in numList:\n",
    "        if math.isnan(num):\n",
    "            return True\n",
    "    return False\n",
    "\n",
    "# 3. anyZero(numList) 判断是否为0\n",
    "def anyZero(numList):\n",
    "    for num in numList:\n",
    "        if num == 0 | num == 0.0:\n",
    "            return True\n",
    "    return False\n",
    "\n",
    "# 4, 箱线图算法\n",
    "# 箱体图算法：四分位Q3+(Q3-Q1)*1.5 > x > Q1-(Q3-Q1)*1.5 为异常值\n",
    "# 返回值：数据集 和 处理的行数\n",
    "def cleanData_4p(data, col):\n",
    "    if isEmpty(data):\n",
    "        return data, 0\n",
    "    o_size = data.shape[0]  # DataFrame的行数\n",
    "    if o_size < 3:\n",
    "        return data, 0\n",
    "    f_q1 = data[col].quantile(0.25)\n",
    "    f_q3 = data[col].quantile(0.75)\n",
    "    delta_q31 = f_q3 - f_q1\n",
    "    # 上下边缘\n",
    "    b_edge = f_q1 - 1.5 * delta_q31\n",
    "    t_edge = f_q3 + 1.5 * delta_q31\n",
    "    \n",
    "    if anyNan([f_q1, f_q3, delta_q31, b_edge, t_edge]):\n",
    "        return data, 0\n",
    "    \n",
    "    data_return = data[(data[col]<=t_edge)&(data[col]>=b_edge)]\n",
    "    return data_return, o_size-data_return.shape[0]\n",
    "\n",
    "# 5. 循环清理：返回清理后的数据集\n",
    "def loopCleanData(func, data, col):\n",
    "    if isEmpty(data):\n",
    "        return data\n",
    "    print(\"************开始清理: col key: %s*************\" % data.iloc[0][col])\n",
    "    print(\"Step 1.当前数据集记录数：%s\" % data.shape[0])\n",
    "    print(\"Step 2.处理数据：\")\n",
    "    data_new = data\n",
    "    cnt = 0\n",
    "    while True:\n",
    "        data_new, effectRows = func(data, col)\n",
    "        print(\"==第一次循环清理记录数：%s\" % effectRows)\n",
    "        if effectRows == 0:\n",
    "            break;\n",
    "    return data_new\n",
    "    "
   ]
  },
  {
   "cell_type": "code",
   "execution_count": null,
   "metadata": {},
   "outputs": [],
   "source": [
    "# 抽取OE，查看数据\n",
    "sample_oe = '521190Z954'\n",
    "sample_df_orders = df_orders[df_orders['regularize_oe']==sample_oe].sort_values(by=['manufacturer', 'part_name', 'part_price'])\n",
    "sample_df_damage = df_damage[(df_damage['regularize_oe']==sample_oe)&(df_damage['reference_type_name']=='市场原厂')].sort_values(by=['manufacturer', 'part_name', 'damage_price'])\n",
    "sample_df_enquiry = df_enquiry[df_enquiry['regularize_oe']==sample_oe].sort_values(by=['manufacturer', 'part_name', 'part_price'])"
   ]
  },
  {
   "cell_type": "code",
   "execution_count": null,
   "metadata": {},
   "outputs": [],
   "source": [
    "print(\"==========sample_df_orders['%s']==========\" % sample_oe)\n",
    "print(sample_df_orders['part_price'].describe())\n",
    "sample_df_orders = loopCleanData(cleanData_4p, sample_df_orders, 'regularize_oe')"
   ]
  },
  {
   "cell_type": "code",
   "execution_count": null,
   "metadata": {
    "tags": []
   },
   "outputs": [],
   "source": [
    "print(\"==========sample_df_orders['%s']==========\" % sample_oe)\n",
    "print(sample_df_orders['part_price'].describe())\n",
    "print(\"==========sample_df_damage['%s']==========\" % sample_oe)\n",
    "print(sample_df_damage['damage_price'].describe())\n",
    "print(\"==========sample_df_enquiry['%s']==========\" % sample_oe)\n",
    "print(sample_df_enquiry['part_price'].describe())"
   ]
  },
  {
   "cell_type": "code",
   "execution_count": null,
   "metadata": {},
   "outputs": [],
   "source": []
  }
 ]
}