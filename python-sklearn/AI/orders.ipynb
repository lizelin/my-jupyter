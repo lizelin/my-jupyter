{
 "metadata": {
  "language_info": {
   "codemirror_mode": {
    "name": "ipython",
    "version": 3
   },
   "file_extension": ".py",
   "mimetype": "text/x-python",
   "name": "python",
   "nbconvert_exporter": "python",
   "pygments_lexer": "ipython3",
   "version": "3.7.6-final"
  },
  "orig_nbformat": 2,
  "kernelspec": {
   "name": "python_defaultSpec_1600054154856",
   "display_name": "Python 3.7.6 64-bit ('base': conda)"
  }
 },
 "nbformat": 4,
 "nbformat_minor": 2,
 "cells": [
  {
   "cell_type": "markdown",
   "metadata": {},
   "source": [
    "# 驾安配订单数据\n",
    "人保订单，德系、日系、美系、韩系车100+品牌，8000 OE，主要是保险杠和大灯"
   ]
  },
  {
   "cell_type": "code",
   "execution_count": null,
   "metadata": {},
   "outputs": [],
   "source": [
    "# 初始化\n",
    "%matplotlib inline\n",
    "import pandas as pd\n",
    "import matplotlib as mpl\n",
    "import matplotlib.pyplot as plt\n",
    "import numpy as np\n",
    "DATA_PATH = 'orders20200909.csv'\n",
    "PARAM_TIMES = 1.0\n",
    "MIN_PARAM_TIMES = 0.4\n",
    "mpl.rc('axes', labelsize=14)\n",
    "mpl.rc('xtick', labelsize=12)\n",
    "mpl.rc('ytick', labelsize=12)"
   ]
  },
  {
   "cell_type": "code",
   "execution_count": null,
   "metadata": {},
   "outputs": [],
   "source": [
    "# 加载数据\n",
    "def load_data(csv_path=DATA_PATH):\n",
    "    return pd.read_csv(csv_path)\n",
    "\n",
    "orders = load_data(DATA_PATH)\n",
    "orders.head()"
   ]
  },
  {
   "cell_type": "markdown",
   "metadata": {},
   "source": [
    "# 字段含义\n",
    "- id ：主键\n",
    "- data_source ：'数据来源：1 驾安配订单, 2 驾安配询价单, 3 驾安配报价单',      \n",
    "- data_source_idx ：'数据来源唯一标识',           \n",
    "- data_vehicletype_name ：'原始车型名称',           \n",
    "- data_vehicletype_name_split ：'原始车型名称分词',           \n",
    "- vehicle_code ：'精友车型编码',           \n",
    "- brand_name ：'通用品牌',           \n",
    "- manufacturer ：'主机厂品牌（车厂）',           \n",
    "- category_name ：'车系',           \n",
    "- category_short_name ：'车系简写名称',           \n",
    "- year_pattern ：'年款',           \n",
    "- vehicle_pattern ：'车型款型',           \n",
    "- announcement_no ：'公告号',           \n",
    "- engine ：'排量',           \n",
    "- maingearbox ：'变速箱类型',           \n",
    "- gearbox ：'变速箱',           \n",
    "- vehicle_type ：'车辆类型',           \n",
    "- part_name ：'配件名称',           \n",
    "- oe ：'OE',           \n",
    "- regularize_oe ：'OE（去除符号）',           \n",
    "- part_jy_name ：'精友配件标准名称',           \n",
    "- part_group ：'标准配件名称分组',           \n",
    "- province_code ：'所在省代码',           \n",
    "- province_name ：'所在省名称',           \n",
    "- city_code ：'所在市代码',           \n",
    "- city_name ：'所在市名称',           \n",
    "- part_price ：成交价\n",
    "- part_price_type_code ：'价格类型：01 成交价；02 供应商报价',         \n",
    "- part_type_code ：'配件品质代码：01 原厂件;02 品牌件; 3 配套件; 4 流通原厂件;05 配套品牌件;06 售后品牌件;07 经济适用件;08 再制造件;09 拆车回用件',\n",
    "- order_channel_source ：'渠道来源：JANP-驾安配;PICC-人保财险;ZKWG-中科万国;STEN-偲腾',           \n",
    "- create_time ：创建时间\n",
    "\n"
   ]
  },
  {
   "cell_type": "code",
   "execution_count": null,
   "metadata": {
    "tags": []
   },
   "outputs": [],
   "source": [
    "# 查看数据信息\n",
    "# orders.info()"
   ]
  },
  {
   "cell_type": "code",
   "execution_count": null,
   "metadata": {},
   "outputs": [],
   "source": [
    "data = orders[['id','data_vehicletype_name','brand_name','part_name','oe','regularize_oe','part_jy_name','part_price','part_type_code','order_channel_source','province_name','city_name','data_source_idx','category_name','part_group','vehicle_type','part_price_type_code','data_source','province_name']]\n"
   ]
  },
  {
   "cell_type": "code",
   "execution_count": null,
   "metadata": {
    "tags": []
   },
   "outputs": [],
   "source": [
    "# data.info()"
   ]
  },
  {
   "cell_type": "code",
   "execution_count": null,
   "metadata": {},
   "outputs": [],
   "source": [
    "# data.head()"
   ]
  },
  {
   "cell_type": "code",
   "execution_count": null,
   "metadata": {
    "tags": []
   },
   "outputs": [],
   "source": [
    "data_oe = data[(data['regularize_oe'].notnull())&(data['regularize_oe'].str.len()>3)&(data['part_type_code'].isin([1])&(data['part_price_type_code']==1))]\n",
    "data_oe = data_oe.loc[~(data_oe['regularize_oe'].str.contains('JYJY'))]"
   ]
  },
  {
   "cell_type": "code",
   "execution_count": null,
   "metadata": {
    "tags": []
   },
   "outputs": [],
   "source": [
    "a = data_oe['regularize_oe'].value_counts()\n",
    "# print(a) # pandas.core.series.Series\n",
    "for k in range(100):\n",
    "   print(a.index[k], a[k]) "
   ]
  },
  {
   "cell_type": "code",
   "execution_count": null,
   "metadata": {},
   "outputs": [],
   "source": [
    "data_oe_sample = data_oe[(data_oe['regularize_oe']=='3732020C0100')]\n",
    "data_oe_sample = data_oe_sample[['id','regularize_oe', 'part_name', 'part_price','province_name']]\n",
    "# data_oe_sample.sort_values(by='part_price')\n",
    "# data_oe_sample['part_price'].hist()"
   ]
  },
  {
   "cell_type": "code",
   "execution_count": null,
   "metadata": {},
   "outputs": [],
   "source": [
    "data_oe_sample.describe()"
   ]
  },
  {
   "cell_type": "code",
   "execution_count": null,
   "metadata": {
    "tags": []
   },
   "outputs": [],
   "source": [
    "# 均值+-标准差，作为上下线\n",
    "import math\n",
    "def cleanData_range(data, col):\n",
    "    f_data_is_ok = False\n",
    "    f_mean = data[col].mean()\n",
    "    f_median = data[col].median()\n",
    "    f_std = data[col].std()\n",
    "    b_temp = math.isnan(f_mean) | math.isnan(f_std) | (f_mean == 0.0) | (f_std==0.0) | len(data)<=2\n",
    "    # print(\"b_temp is \",b_temp)\n",
    "    if b_temp:\n",
    "        return data, True\n",
    "    if f_std / f_mean > PARAM_TIMES:\n",
    "        f_std = f_mean * PARAM_TIMES\n",
    "    elif f_std / f_mean <= MIN_PARAM_TIMES:\n",
    "        f_data_is_ok = True\n",
    "    f_range_t = f_mean + f_std\n",
    "    f_range_b = f_mean - f_std\n",
    "    data_return = data[(data[col]>=f_range_b)&(data[col]<=f_range_t)]\n",
    "    return data_return, f_data_is_ok\n"
   ]
  },
  {
   "cell_type": "code",
   "execution_count": null,
   "metadata": {},
   "outputs": [],
   "source": [
    "# 箱体图算法：四分位Q3+(Q3-Q1)*1.5 > x > Q1-(Q3-Q1)*1.5 为异常值\n",
    "import math\n",
    "def cleanData_4p(data, col):\n",
    "    f_data_is_ok = False\n",
    "    f_q1 = data[col].quantile(0.25)\n",
    "    f_q3 = data[col].quantile(0.75)\n",
    "    delta_q31 = f_q3 - f_q1\n",
    "    # 上下边缘\n",
    "    b_edge = f_q1 - 1.5 * delta_q31\n",
    "    t_edge = f_q3 + 1.5 * delta_q31\n",
    "    b_temp = math.isnan(delta_q31) | math.isnan(f_q3) | (delta_q31 == 0.0) | (f_q3==0.0) # | len(data)<=2\n",
    "    # print(\"b_temp is \",b_temp)\n",
    "    if b_temp:\n",
    "        return data, True\n",
    "    data_return = data[(data[col]<=t_edge)&(data[col]>=b_edge)]\n",
    "    if (len(data_return) == len(data)):\n",
    "        f_data_is_ok = True\n",
    "    return data_return, f_data_is_ok\n"
   ]
  },
  {
   "cell_type": "code",
   "execution_count": null,
   "metadata": {
    "tags": []
   },
   "outputs": [],
   "source": [
    "continue_flag = True\n",
    "i = 1\n",
    "print(\"================================================================\")\n",
    "print(\"OE:\", data_oe_sample.iloc[0]['regularize_oe'])\n",
    "while continue_flag:\n",
    "    data_oe_sample, result = cleanData_range(data_oe_sample, 'part_price')\n",
    "    print(\"第\",i,\"轮循环结果：\", result)\n",
    "    continue_flag = not result\n",
    "    print(data_oe_sample.describe())\n",
    "    print(\"-------------------------------------------\\n\")\n",
    "    i+=1"
   ]
  },
  {
   "cell_type": "code",
   "execution_count": null,
   "metadata": {},
   "outputs": [],
   "source": [
    "data_oe_sample.sort_values(by=\"part_price\")"
   ]
  },
  {
   "cell_type": "code",
   "execution_count": null,
   "metadata": {
    "tags": []
   },
   "outputs": [],
   "source": [
    "data_oe_sample = data_oe[(data_oe['regularize_oe']=='3732020C0100')]\n",
    "data_oe_sample = data_oe_sample[['id','regularize_oe', 'part_name', 'part_price','province_name']]\n",
    "continue_flag = True\n",
    "i = 1\n",
    "print(\"================================================================\")\n",
    "print(\"OE:\", data_oe_sample.iloc[0]['regularize_oe'])\n",
    "while continue_flag:\n",
    "    data_oe_sample, result = cleanData_4p(data_oe_sample, 'part_price')\n",
    "    print(\"第\",i,\"轮循环结果：\", result)\n",
    "    continue_flag = not result\n",
    "    print(data_oe_sample.describe())\n",
    "    print(\"-------------------------------------------\\n\")\n",
    "    i+=1"
   ]
  },
  {
   "cell_type": "code",
   "execution_count": null,
   "metadata": {},
   "outputs": [],
   "source": [
    "data_oe_sample.sort_values(by=\"part_price\")"
   ]
  },
  {
   "cell_type": "code",
   "execution_count": null,
   "metadata": {},
   "outputs": [],
   "source": []
  }
 ]
}